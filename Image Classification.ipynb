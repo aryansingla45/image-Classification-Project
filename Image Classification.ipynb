{
  "cells": [
    {
      "cell_type": "markdown",
      "metadata": {
        "id": "eWIaT98EoTQZ"
      },
      "source": [
        "# Image Classification Project: Cats vs Dogs\n",
        "##### Author - Aryan Singla\n",
        "\n",
        "## Introduction\n",
        "In this project, we aim to build a deep learning model to classify images as either cats or dogs. This task is a classic problem in the field of computer vision and serves as a fundamental introduction to image classification techniques. We will utilize a dataset obtained from Kaggle, consisting of thousands of images of cats and dogs, to train and evaluate our model.\n",
        "\n",
        "## Dataset\n",
        "The dataset used in this project is sourced from Kaggle's \"Dogs vs Cats\" competition. It comprises a large collection of images of cats and dogs. Each image is labeled with the corresponding class, allowing us to perform supervised learning. The dataset is divided into training and testing sets, enabling us to train our model on labeled data and evaluate its performance on unseen data.\n",
        "\n",
        "## Methodology\n",
        "1. **Data Preprocessing**: We will preprocess the images, including resizing, normalization, and augmentation techniques to enhance the model's generalization capabilities.\n",
        "2. **Model Architecture**: We will explore various deep learning architectures, such as Convolutional Neural Networks (CNNs), to build our image classification model. Experimentation with different architectures and hyperparameters will be conducted to achieve the best performance.\n",
        "3. **Training**: The model will be trained on the training dataset using an appropriate optimization algorithm and loss function.\n",
        "4. **Evaluation**: We will evaluate the trained model's performance on the testing dataset using metrics such as accuracy.\n",
        "5. **Fine-tuning**: Further improvements may involve fine-tuning the model, adjusting hyperparameters, or incorporating advanced techniques like transfer learning to enhance performance.\n",
        "\n",
        "## Results\n",
        "We will present the results of our experiments, including the model's accuracy and visualizations of performance metrics. Additionally, we may showcase some predictions made by the model on unseen images.\n",
        "\n",
        "## Conclusion\n",
        "In conclusion, this project demonstrates the process of building an image classification model to distinguish between cats and dogs using deep learning techniques. Through experimentation and optimization, we aim to achieve a reliable and accurate classifier that can generalize well to unseen data."
      ]
    },
    {
      "cell_type": "code",
      "execution_count": 2,
      "metadata": {
        "id": "ErI59WsqoTQf"
      },
      "outputs": [],
      "source": [
        "import numpy as np\n",
        "import pandas as pd\n",
        "%matplotlib inline\n",
        "import matplotlib as mpl\n",
        "import matplotlib.pyplot as plt\n",
        "import os"
      ]
    },
    {
      "cell_type": "code",
      "execution_count": 3,
      "metadata": {
        "id": "PB9c-iL2oTQi"
      },
      "outputs": [],
      "source": [
        "import tensorflow as tf\n",
        "from tensorflow import keras"
      ]
    },
    {
      "cell_type": "code",
      "execution_count": 4,
      "metadata": {
        "id": "u7cBWhVcoTQj"
      },
      "outputs": [],
      "source": [
        "train_dir = r'/content/drive/MyDrive/Colab_Notebooks/Data/train'\n",
        "validation_dir = '/content/drive/MyDrive/Colab_Notebooks/Data/validation'\n",
        "test_dir ='/content/drive/MyDrive/Colab_Notebooks/Data/test'"
      ]
    },
    {
      "cell_type": "code",
      "execution_count": null,
      "metadata": {
        "colab": {
          "base_uri": "https://localhost:8080/",
          "height": 35
        },
        "id": "8zmQHvrBAvDL",
        "outputId": "8d574952-2544-44e7-dbb6-dda806a9fe0a"
      },
      "outputs": [
        {
          "data": {
            "application/vnd.google.colaboratory.intrinsic+json": {
              "type": "string"
            },
            "text/plain": [
              "'/content/drive/MyDrive/Colab_Notebooks/Data/train'"
            ]
          },
          "execution_count": 4,
          "metadata": {},
          "output_type": "execute_result"
        }
      ],
      "source": [
        "train_dir"
      ]
    },
    {
      "cell_type": "markdown",
      "metadata": {
        "id": "Vs1CB_b6oTQj"
      },
      "source": [
        "### Data Preprocessing"
      ]
    },
    {
      "cell_type": "markdown",
      "metadata": {
        "id": "BpVvI0UuoTQk"
      },
      "source": [
        "* Read the picture files.\n",
        "* Decode the JPEG content to RBG grids of pixels.\n",
        "* Convert these into floating point tensors.\n",
        "* Rescale the pixel values (between 0 and 255) to the [0, 1] interval"
      ]
    },
    {
      "cell_type": "code",
      "execution_count": 5,
      "metadata": {
        "id": "ktf_1fNuoTQl"
      },
      "outputs": [],
      "source": [
        "from tensorflow.keras.preprocessing.image import ImageDataGenerator"
      ]
    },
    {
      "cell_type": "markdown",
      "metadata": {
        "id": "j6FeI7w7oTQl"
      },
      "source": [
        "Link : https://keras.io/preprocessing/image/"
      ]
    },
    {
      "cell_type": "code",
      "execution_count": 6,
      "metadata": {
        "colab": {
          "base_uri": "https://localhost:8080/"
        },
        "id": "dYDeBM8moTQm",
        "outputId": "a94ef0e2-aeed-40b1-a977-8cea520ae161"
      },
      "outputs": [
        {
          "output_type": "stream",
          "name": "stdout",
          "text": [
            "Found 2000 images belonging to 2 classes.\n",
            "Found 1000 images belonging to 2 classes.\n"
          ]
        }
      ],
      "source": [
        "# Generating batches of tensor image data\n",
        "train_datagen = ImageDataGenerator(rescale=1./255)\n",
        "test_datagen = ImageDataGenerator(rescale=1./255)\n",
        "\n",
        "train_generator = train_datagen.flow_from_directory(\n",
        "        train_dir,\n",
        "        target_size=(150, 150),\n",
        "        batch_size=20,\n",
        "        class_mode='binary')\n",
        "\n",
        "validation_generator = test_datagen.flow_from_directory(\n",
        "        validation_dir,\n",
        "        target_size=(150, 150),\n",
        "        batch_size=20,\n",
        "        class_mode='binary')"
      ]
    },
    {
      "cell_type": "code",
      "execution_count": 7,
      "metadata": {
        "id": "sXRnW90eoTQo"
      },
      "outputs": [],
      "source": [
        "from tensorflow.keras import layers\n",
        "from tensorflow.keras import models"
      ]
    },
    {
      "cell_type": "code",
      "execution_count": 1,
      "metadata": {
        "colab": {
          "base_uri": "https://localhost:8080/"
        },
        "id": "7f2Y1oVKC8cp",
        "outputId": "78665f66-b350-4a03-cfed-e996af37c1f5"
      },
      "outputs": [
        {
          "output_type": "stream",
          "name": "stdout",
          "text": [
            "Mounted at /content/drive\n"
          ]
        }
      ],
      "source": [
        "from google.colab import drive\n",
        "drive.mount('/content/drive')"
      ]
    },
    {
      "cell_type": "code",
      "execution_count": 8,
      "metadata": {
        "id": "LBAjjlPXoTQp"
      },
      "outputs": [],
      "source": [
        "model = models.Sequential()\n",
        "\n",
        "model.add(layers.Conv2D(32, (3, 3), activation='relu',\n",
        "                        input_shape=(150, 150, 3)))\n",
        "model.add(layers.MaxPooling2D((2, 2)))\n",
        "\n",
        "model.add(layers.Conv2D(64, (3, 3), activation='relu'))\n",
        "model.add(layers.MaxPooling2D((2, 2)))\n",
        "\n",
        "model.add(layers.Conv2D(128, (3, 3), activation='relu'))\n",
        "model.add(layers.MaxPooling2D((2, 2)))\n",
        "\n",
        "model.add(layers.Conv2D(128, (3, 3), activation='relu'))\n",
        "model.add(layers.MaxPooling2D((2, 2)))\n",
        "\n",
        "model.add(layers.Flatten())\n",
        "\n",
        "model.add(layers.Dense(512, activation='relu'))\n",
        "\n",
        "model.add(layers.Dense(1, activation='sigmoid'))"
      ]
    },
    {
      "cell_type": "code",
      "execution_count": 9,
      "metadata": {
        "colab": {
          "base_uri": "https://localhost:8080/"
        },
        "id": "ULZ-CA55oTQq",
        "outputId": "ce66a85d-5633-49ce-c4bb-d010d3e8f114"
      },
      "outputs": [
        {
          "output_type": "stream",
          "name": "stdout",
          "text": [
            "Model: \"sequential\"\n",
            "_________________________________________________________________\n",
            " Layer (type)                Output Shape              Param #   \n",
            "=================================================================\n",
            " conv2d (Conv2D)             (None, 148, 148, 32)      896       \n",
            "                                                                 \n",
            " max_pooling2d (MaxPooling2  (None, 74, 74, 32)        0         \n",
            " D)                                                              \n",
            "                                                                 \n",
            " conv2d_1 (Conv2D)           (None, 72, 72, 64)        18496     \n",
            "                                                                 \n",
            " max_pooling2d_1 (MaxPoolin  (None, 36, 36, 64)        0         \n",
            " g2D)                                                            \n",
            "                                                                 \n",
            " conv2d_2 (Conv2D)           (None, 34, 34, 128)       73856     \n",
            "                                                                 \n",
            " max_pooling2d_2 (MaxPoolin  (None, 17, 17, 128)       0         \n",
            " g2D)                                                            \n",
            "                                                                 \n",
            " conv2d_3 (Conv2D)           (None, 15, 15, 128)       147584    \n",
            "                                                                 \n",
            " max_pooling2d_3 (MaxPoolin  (None, 7, 7, 128)         0         \n",
            " g2D)                                                            \n",
            "                                                                 \n",
            " flatten (Flatten)           (None, 6272)              0         \n",
            "                                                                 \n",
            " dense (Dense)               (None, 512)               3211776   \n",
            "                                                                 \n",
            " dense_1 (Dense)             (None, 1)                 513       \n",
            "                                                                 \n",
            "=================================================================\n",
            "Total params: 3453121 (13.17 MB)\n",
            "Trainable params: 3453121 (13.17 MB)\n",
            "Non-trainable params: 0 (0.00 Byte)\n",
            "_________________________________________________________________\n"
          ]
        }
      ],
      "source": [
        "model.summary()"
      ]
    },
    {
      "cell_type": "code",
      "execution_count": 10,
      "metadata": {
        "id": "T6sHJc5IoTQq"
      },
      "outputs": [],
      "source": [
        "from tensorflow.keras import optimizers\n",
        "\n",
        "model.compile(loss='binary_crossentropy',\n",
        "              optimizer=optimizers.RMSprop(learning_rate=1e-4),\n",
        "              metrics=['acc'])"
      ]
    },
    {
      "cell_type": "code",
      "execution_count": 11,
      "metadata": {
        "colab": {
          "base_uri": "https://localhost:8080/"
        },
        "id": "q6k-AlPdoTQr",
        "outputId": "f5f8953a-4e5a-411c-9ed2-769acb63b28c"
      },
      "outputs": [
        {
          "output_type": "stream",
          "name": "stdout",
          "text": [
            "Epoch 1/20\n",
            "100/100 [==============================] - 368s 4s/step - loss: 0.6908 - acc: 0.5220 - val_loss: 0.6877 - val_acc: 0.5350\n",
            "Epoch 2/20\n",
            "100/100 [==============================] - 15s 149ms/step - loss: 0.6771 - acc: 0.5645 - val_loss: 0.6641 - val_acc: 0.5840\n",
            "Epoch 3/20\n",
            "100/100 [==============================] - 15s 152ms/step - loss: 0.6564 - acc: 0.6040 - val_loss: 0.6510 - val_acc: 0.6000\n",
            "Epoch 4/20\n",
            "100/100 [==============================] - 15s 153ms/step - loss: 0.6314 - acc: 0.6395 - val_loss: 0.6290 - val_acc: 0.6340\n",
            "Epoch 5/20\n",
            "100/100 [==============================] - 15s 152ms/step - loss: 0.6026 - acc: 0.6700 - val_loss: 0.6301 - val_acc: 0.6390\n",
            "Epoch 6/20\n",
            "100/100 [==============================] - 15s 150ms/step - loss: 0.5747 - acc: 0.6950 - val_loss: 0.6149 - val_acc: 0.6500\n",
            "Epoch 7/20\n",
            "100/100 [==============================] - 15s 150ms/step - loss: 0.5564 - acc: 0.7080 - val_loss: 0.6190 - val_acc: 0.6540\n",
            "Epoch 8/20\n",
            "100/100 [==============================] - 15s 150ms/step - loss: 0.5370 - acc: 0.7165 - val_loss: 0.5887 - val_acc: 0.6830\n",
            "Epoch 9/20\n",
            "100/100 [==============================] - 15s 150ms/step - loss: 0.5161 - acc: 0.7410 - val_loss: 0.6002 - val_acc: 0.6790\n",
            "Epoch 10/20\n",
            "100/100 [==============================] - 15s 152ms/step - loss: 0.5003 - acc: 0.7590 - val_loss: 0.5817 - val_acc: 0.6800\n",
            "Epoch 11/20\n",
            "100/100 [==============================] - 15s 150ms/step - loss: 0.4816 - acc: 0.7580 - val_loss: 0.6018 - val_acc: 0.6900\n",
            "Epoch 12/20\n",
            "100/100 [==============================] - 15s 150ms/step - loss: 0.4653 - acc: 0.7745 - val_loss: 0.5715 - val_acc: 0.6940\n",
            "Epoch 13/20\n",
            "100/100 [==============================] - 15s 150ms/step - loss: 0.4418 - acc: 0.7945 - val_loss: 0.5605 - val_acc: 0.7050\n",
            "Epoch 14/20\n",
            "100/100 [==============================] - 15s 151ms/step - loss: 0.4241 - acc: 0.8025 - val_loss: 0.5510 - val_acc: 0.7260\n",
            "Epoch 15/20\n",
            "100/100 [==============================] - 15s 151ms/step - loss: 0.3916 - acc: 0.8260 - val_loss: 0.5890 - val_acc: 0.7180\n",
            "Epoch 16/20\n",
            "100/100 [==============================] - 15s 150ms/step - loss: 0.3771 - acc: 0.8325 - val_loss: 0.5613 - val_acc: 0.7090\n",
            "Epoch 17/20\n",
            "100/100 [==============================] - 15s 150ms/step - loss: 0.3601 - acc: 0.8440 - val_loss: 0.6260 - val_acc: 0.6970\n",
            "Epoch 18/20\n",
            "100/100 [==============================] - 15s 150ms/step - loss: 0.3347 - acc: 0.8515 - val_loss: 0.5720 - val_acc: 0.7120\n",
            "Epoch 19/20\n",
            "100/100 [==============================] - 15s 150ms/step - loss: 0.3198 - acc: 0.8655 - val_loss: 0.5836 - val_acc: 0.7150\n",
            "Epoch 20/20\n",
            "100/100 [==============================] - 15s 149ms/step - loss: 0.2980 - acc: 0.8805 - val_loss: 0.5695 - val_acc: 0.7160\n"
          ]
        }
      ],
      "source": [
        "history = model.fit (\n",
        "      train_generator,\n",
        "      steps_per_epoch=100,\n",
        "      epochs=20,\n",
        "      validation_data=validation_generator,\n",
        "      validation_steps=50)"
      ]
    },
    {
      "cell_type": "code",
      "execution_count": 12,
      "metadata": {
        "id": "wdlZF-7koTQr",
        "outputId": "db015d70-1d15-4344-842e-e50cc85737df",
        "colab": {
          "base_uri": "https://localhost:8080/",
          "height": 451
        }
      },
      "outputs": [
        {
          "output_type": "display_data",
          "data": {
            "text/plain": [
              "<Figure size 800x500 with 1 Axes>"
            ],
            "image/png": "[encoded data removed]"
          },
          "metadata": {}
        }
      ],
      "source": [
        "pd.DataFrame(history.history).plot(figsize=(8, 5))\n",
        "plt.grid(True)\n",
        "plt.gca().set_ylim(0, 1)\n",
        "plt.show()"
      ]
    },
    {
      "cell_type": "markdown",
      "metadata": {
        "id": "XfLthxVkoTQr"
      },
      "source": [
        "Here , we can see that there is a huge gap between validation_accuracy and training_accuracy which shows that our model is overfitting and is not suitable, so we apply data augmentaion to create more samples by rotating the image and other different techniques."
      ]
    },
    {
      "cell_type": "code",
      "execution_count": 13,
      "metadata": {
        "id": "XuPiOKy2oTQs",
        "colab": {
          "base_uri": "https://localhost:8080/"
        },
        "outputId": "c30754b4-1aed-4406-ecfd-5f99c37b3201"
      },
      "outputs": [
        {
          "output_type": "stream",
          "name": "stderr",
          "text": [
            "/usr/local/lib/python3.10/dist-packages/keras/src/engine/training.py:3103: UserWarning: You are saving your model as an HDF5 file via `model.save()`. This file format is considered legacy. We recommend using instead the native Keras format, e.g. `model.save('my_model.keras')`.\n",
            "  saving_api.save_model(\n"
          ]
        }
      ],
      "source": [
        "model.save(\"model.h5\")"
      ]
    },
    {
      "cell_type": "code",
      "execution_count": 14,
      "metadata": {
        "id": "-0hyuWlQoTQs"
      },
      "outputs": [],
      "source": [
        "from tensorflow.keras import backend as K\n",
        "\n",
        "K.clear_session()\n",
        "del model"
      ]
    },
    {
      "cell_type": "code",
      "execution_count": 24,
      "metadata": {
        "id": "TgIdYQzZoTQs",
        "colab": {
          "base_uri": "https://localhost:8080/"
        },
        "outputId": "badb6305-95f3-4c79-a6c8-6046e64e846e"
      },
      "outputs": [
        {
          "output_type": "stream",
          "name": "stdout",
          "text": [
            "Found 2000 images belonging to 2 classes.\n",
            "Found 1000 images belonging to 2 classes.\n"
          ]
        }
      ],
      "source": [
        "train_datagen = ImageDataGenerator(\n",
        "    rescale=1./255,\n",
        "    rotation_range=40,\n",
        "    width_shift_range=0.2,\n",
        "    height_shift_range=0.2,\n",
        "    shear_range=0.2,\n",
        "    zoom_range=0.2,\n",
        "    horizontal_flip=True,)\n",
        "\n",
        "test_datagen = ImageDataGenerator(rescale=1./255)\n",
        "\n",
        "train_generator = train_datagen.flow_from_directory(\n",
        "        train_dir,\n",
        "        target_size=(150, 150),\n",
        "        batch_size=16,\n",
        "        class_mode='binary')\n",
        "\n",
        "\n",
        "validation_generator = test_datagen.flow_from_directory(\n",
        "        validation_dir,\n",
        "        target_size=(150, 150),\n",
        "        batch_size=16,\n",
        "        class_mode='binary')\n"
      ]
    },
    {
      "cell_type": "code",
      "execution_count": 25,
      "metadata": {
        "id": "mGElKtbhoTQt",
        "colab": {
          "base_uri": "https://localhost:8080/"
        },
        "outputId": "134b0b25-5f0e-4fb2-b694-b90ee3ba5e1e"
      },
      "outputs": [
        {
          "output_type": "stream",
          "name": "stderr",
          "text": [
            "WARNING:absl:`lr` is deprecated in Keras optimizer, please use `learning_rate` or use the legacy optimizer, e.g.,tf.keras.optimizers.legacy.RMSprop.\n"
          ]
        }
      ],
      "source": [
        "model = models.Sequential()\n",
        "model.add(layers.Conv2D(32, (3, 3), activation='relu', input_shape=(150, 150, 3)))\n",
        "model.add(layers.MaxPooling2D((2, 2)))\n",
        "model.add(layers.Conv2D(64, (3, 3), activation='relu'))\n",
        "model.add(layers.MaxPooling2D((2, 2)))\n",
        "model.add(layers.Conv2D(128, (3, 3), activation='relu'))\n",
        "model.add(layers.MaxPooling2D((2, 2)))\n",
        "model.add(layers.Conv2D(128, (3, 3), activation='relu'))\n",
        "model.add(layers.MaxPooling2D((2, 2)))\n",
        "model.add(layers.Flatten())\n",
        "model.add(layers.Dropout(0.5))\n",
        "model.add(layers.Dense(512, activation='relu'))\n",
        "model.add(layers.Dense(1, activation='sigmoid'))\n",
        "\n",
        "model.compile(loss='binary_crossentropy',\n",
        "              optimizer=optimizers.RMSprop(lr=1e-4),\n",
        "              metrics=['acc'])"
      ]
    },
    {
      "cell_type": "code",
      "execution_count": 26,
      "metadata": {
        "id": "2wZFuOK-oTQt",
        "colab": {
          "base_uri": "https://localhost:8080/"
        },
        "outputId": "7003f010-e4e9-47ed-e580-049ca468c2c2"
      },
      "outputs": [
        {
          "output_type": "stream",
          "name": "stdout",
          "text": [
            "Epoch 1/100\n",
            "100/100 [==============================] - 25s 189ms/step - loss: 0.6989 - acc: 0.5238 - val_loss: 0.6878 - val_acc: 0.4888\n",
            "Epoch 2/100\n",
            "100/100 [==============================] - 19s 190ms/step - loss: 0.7081 - acc: 0.5606 - val_loss: 0.6924 - val_acc: 0.5013\n",
            "Epoch 3/100\n",
            "100/100 [==============================] - 19s 190ms/step - loss: 0.6790 - acc: 0.5688 - val_loss: 0.6425 - val_acc: 0.6338\n",
            "Epoch 4/100\n",
            "100/100 [==============================] - 19s 188ms/step - loss: 0.6792 - acc: 0.5700 - val_loss: 0.6471 - val_acc: 0.6450\n",
            "Epoch 5/100\n",
            "100/100 [==============================] - 19s 188ms/step - loss: 0.6638 - acc: 0.6225 - val_loss: 0.6280 - val_acc: 0.6550\n",
            "Epoch 6/100\n",
            "100/100 [==============================] - 19s 189ms/step - loss: 0.6388 - acc: 0.6306 - val_loss: 0.6180 - val_acc: 0.6475\n",
            "Epoch 7/100\n",
            "100/100 [==============================] - 19s 189ms/step - loss: 0.6625 - acc: 0.6431 - val_loss: 0.6003 - val_acc: 0.6862\n",
            "Epoch 8/100\n",
            "100/100 [==============================] - 19s 190ms/step - loss: 0.6488 - acc: 0.6281 - val_loss: 0.6875 - val_acc: 0.5950\n",
            "Epoch 9/100\n",
            "100/100 [==============================] - 19s 189ms/step - loss: 0.6329 - acc: 0.6244 - val_loss: 0.6221 - val_acc: 0.6625\n",
            "Epoch 10/100\n",
            "100/100 [==============================] - 19s 186ms/step - loss: 0.6229 - acc: 0.6594 - val_loss: 0.5912 - val_acc: 0.6600\n",
            "Epoch 11/100\n",
            "100/100 [==============================] - 19s 189ms/step - loss: 0.6248 - acc: 0.6562 - val_loss: 0.5843 - val_acc: 0.6963\n",
            "Epoch 12/100\n",
            "100/100 [==============================] - 19s 187ms/step - loss: 0.6213 - acc: 0.6694 - val_loss: 0.5610 - val_acc: 0.7088\n",
            "Epoch 13/100\n",
            "100/100 [==============================] - 19s 188ms/step - loss: 0.6125 - acc: 0.6731 - val_loss: 0.6110 - val_acc: 0.6575\n",
            "Epoch 14/100\n",
            "100/100 [==============================] - 19s 188ms/step - loss: 0.6080 - acc: 0.6781 - val_loss: 0.5740 - val_acc: 0.7000\n",
            "Epoch 15/100\n",
            "100/100 [==============================] - 19s 188ms/step - loss: 0.6022 - acc: 0.6825 - val_loss: 0.5274 - val_acc: 0.7375\n",
            "Epoch 16/100\n",
            "100/100 [==============================] - 19s 187ms/step - loss: 0.5902 - acc: 0.6900 - val_loss: 0.6964 - val_acc: 0.6513\n",
            "Epoch 17/100\n",
            "100/100 [==============================] - 19s 185ms/step - loss: 0.5861 - acc: 0.7069 - val_loss: 0.5311 - val_acc: 0.7400\n",
            "Epoch 18/100\n",
            "100/100 [==============================] - 19s 187ms/step - loss: 0.5756 - acc: 0.6963 - val_loss: 0.5301 - val_acc: 0.7225\n",
            "Epoch 19/100\n",
            "100/100 [==============================] - 19s 189ms/step - loss: 0.5904 - acc: 0.6925 - val_loss: 0.5233 - val_acc: 0.7225\n",
            "Epoch 20/100\n",
            "100/100 [==============================] - 19s 188ms/step - loss: 0.5557 - acc: 0.7188 - val_loss: 0.5618 - val_acc: 0.7038\n",
            "Epoch 21/100\n",
            "100/100 [==============================] - 19s 187ms/step - loss: 0.5840 - acc: 0.7031 - val_loss: 0.5229 - val_acc: 0.7312\n",
            "Epoch 22/100\n",
            "100/100 [==============================] - 19s 188ms/step - loss: 0.5622 - acc: 0.7138 - val_loss: 0.5086 - val_acc: 0.7538\n",
            "Epoch 23/100\n",
            "100/100 [==============================] - 19s 189ms/step - loss: 0.5825 - acc: 0.7088 - val_loss: 0.5183 - val_acc: 0.7600\n",
            "Epoch 24/100\n",
            "100/100 [==============================] - 19s 191ms/step - loss: 0.5581 - acc: 0.7225 - val_loss: 0.5226 - val_acc: 0.7563\n",
            "Epoch 25/100\n",
            "100/100 [==============================] - 19s 188ms/step - loss: 0.5521 - acc: 0.7262 - val_loss: 0.5124 - val_acc: 0.7600\n",
            "Epoch 26/100\n",
            "100/100 [==============================] - 19s 190ms/step - loss: 0.5507 - acc: 0.7394 - val_loss: 0.5070 - val_acc: 0.7487\n",
            "Epoch 27/100\n",
            "100/100 [==============================] - 19s 187ms/step - loss: 0.5471 - acc: 0.7331 - val_loss: 0.5214 - val_acc: 0.7487\n",
            "Epoch 28/100\n",
            "100/100 [==============================] - 19s 186ms/step - loss: 0.5399 - acc: 0.7312 - val_loss: 0.4847 - val_acc: 0.7850\n",
            "Epoch 29/100\n",
            "100/100 [==============================] - 19s 187ms/step - loss: 0.5413 - acc: 0.7294 - val_loss: 0.4607 - val_acc: 0.7837\n",
            "Epoch 30/100\n",
            "100/100 [==============================] - 19s 189ms/step - loss: 0.5397 - acc: 0.7275 - val_loss: 0.4967 - val_acc: 0.7600\n",
            "Epoch 31/100\n",
            "100/100 [==============================] - 19s 188ms/step - loss: 0.5335 - acc: 0.7337 - val_loss: 0.5020 - val_acc: 0.7700\n",
            "Epoch 32/100\n",
            "100/100 [==============================] - 19s 190ms/step - loss: 0.5291 - acc: 0.7481 - val_loss: 1.1729 - val_acc: 0.5537\n",
            "Epoch 33/100\n",
            "100/100 [==============================] - 19s 188ms/step - loss: 0.5218 - acc: 0.7550 - val_loss: 0.5971 - val_acc: 0.7538\n",
            "Epoch 34/100\n",
            "100/100 [==============================] - 19s 186ms/step - loss: 0.4948 - acc: 0.7638 - val_loss: 0.5222 - val_acc: 0.7500\n",
            "Epoch 35/100\n",
            "100/100 [==============================] - 19s 189ms/step - loss: 0.5319 - acc: 0.7450 - val_loss: 0.4809 - val_acc: 0.7763\n",
            "Epoch 36/100\n",
            "100/100 [==============================] - 19s 185ms/step - loss: 0.5151 - acc: 0.7487 - val_loss: 0.4497 - val_acc: 0.7900\n",
            "Epoch 37/100\n",
            "100/100 [==============================] - 19s 188ms/step - loss: 0.4994 - acc: 0.7725 - val_loss: 0.4332 - val_acc: 0.7837\n",
            "Epoch 38/100\n",
            "100/100 [==============================] - 19s 188ms/step - loss: 0.5155 - acc: 0.7738 - val_loss: 0.4781 - val_acc: 0.7675\n",
            "Epoch 39/100\n",
            "100/100 [==============================] - 19s 186ms/step - loss: 0.5246 - acc: 0.7506 - val_loss: 0.4533 - val_acc: 0.7800\n",
            "Epoch 40/100\n",
            "100/100 [==============================] - 19s 191ms/step - loss: 0.4840 - acc: 0.7781 - val_loss: 0.4529 - val_acc: 0.7987\n",
            "Epoch 41/100\n",
            "100/100 [==============================] - 19s 188ms/step - loss: 0.4986 - acc: 0.7613 - val_loss: 0.4241 - val_acc: 0.8125\n",
            "Epoch 42/100\n",
            "100/100 [==============================] - 19s 185ms/step - loss: 0.4818 - acc: 0.7788 - val_loss: 0.4734 - val_acc: 0.7775\n",
            "Epoch 43/100\n",
            "100/100 [==============================] - 19s 189ms/step - loss: 0.4862 - acc: 0.7812 - val_loss: 0.4538 - val_acc: 0.7962\n",
            "Epoch 44/100\n",
            "100/100 [==============================] - 19s 187ms/step - loss: 0.4965 - acc: 0.7700 - val_loss: 0.4842 - val_acc: 0.7613\n",
            "Epoch 45/100\n",
            "100/100 [==============================] - 19s 187ms/step - loss: 0.4973 - acc: 0.7738 - val_loss: 0.4260 - val_acc: 0.8037\n",
            "Epoch 46/100\n",
            "100/100 [==============================] - 19s 187ms/step - loss: 0.4930 - acc: 0.7719 - val_loss: 0.4145 - val_acc: 0.8062\n",
            "Epoch 47/100\n",
            "100/100 [==============================] - 19s 188ms/step - loss: 0.4760 - acc: 0.7881 - val_loss: 0.5225 - val_acc: 0.7550\n",
            "Epoch 48/100\n",
            "100/100 [==============================] - 19s 190ms/step - loss: 0.4649 - acc: 0.7806 - val_loss: 0.4427 - val_acc: 0.7950\n",
            "Epoch 49/100\n",
            "100/100 [==============================] - 19s 190ms/step - loss: 0.4767 - acc: 0.7800 - val_loss: 0.5933 - val_acc: 0.7337\n",
            "Epoch 50/100\n",
            "100/100 [==============================] - 19s 187ms/step - loss: 0.4609 - acc: 0.7887 - val_loss: 0.4444 - val_acc: 0.7875\n",
            "Epoch 51/100\n",
            "100/100 [==============================] - 19s 189ms/step - loss: 0.4536 - acc: 0.7962 - val_loss: 0.6116 - val_acc: 0.7475\n",
            "Epoch 52/100\n",
            "100/100 [==============================] - 19s 187ms/step - loss: 0.4733 - acc: 0.7919 - val_loss: 0.5168 - val_acc: 0.7362\n",
            "Epoch 53/100\n",
            "100/100 [==============================] - 19s 190ms/step - loss: 0.4625 - acc: 0.7912 - val_loss: 0.5849 - val_acc: 0.7475\n",
            "Epoch 54/100\n",
            "100/100 [==============================] - 19s 188ms/step - loss: 0.4799 - acc: 0.7881 - val_loss: 0.4411 - val_acc: 0.7925\n",
            "Epoch 55/100\n",
            "100/100 [==============================] - 19s 187ms/step - loss: 0.4476 - acc: 0.8050 - val_loss: 0.4396 - val_acc: 0.7962\n",
            "Epoch 56/100\n",
            "100/100 [==============================] - 19s 190ms/step - loss: 0.4446 - acc: 0.8000 - val_loss: 0.4275 - val_acc: 0.8087\n",
            "Epoch 57/100\n",
            "100/100 [==============================] - 19s 189ms/step - loss: 0.4592 - acc: 0.7937 - val_loss: 0.4614 - val_acc: 0.7875\n",
            "Epoch 58/100\n",
            "100/100 [==============================] - 19s 189ms/step - loss: 0.4733 - acc: 0.7887 - val_loss: 0.4461 - val_acc: 0.7987\n",
            "Epoch 59/100\n",
            "100/100 [==============================] - 19s 189ms/step - loss: 0.4486 - acc: 0.7962 - val_loss: 0.4021 - val_acc: 0.8112\n",
            "Epoch 60/100\n",
            "100/100 [==============================] - 19s 188ms/step - loss: 0.4503 - acc: 0.8012 - val_loss: 0.3732 - val_acc: 0.8313\n",
            "Epoch 61/100\n",
            "100/100 [==============================] - 19s 190ms/step - loss: 0.4370 - acc: 0.8087 - val_loss: 0.5873 - val_acc: 0.7412\n",
            "Epoch 62/100\n",
            "100/100 [==============================] - 19s 187ms/step - loss: 0.4298 - acc: 0.8062 - val_loss: 0.4994 - val_acc: 0.7788\n",
            "Epoch 63/100\n",
            "100/100 [==============================] - 19s 187ms/step - loss: 0.4358 - acc: 0.7981 - val_loss: 0.4776 - val_acc: 0.7975\n",
            "Epoch 64/100\n",
            "100/100 [==============================] - 19s 187ms/step - loss: 0.4296 - acc: 0.7950 - val_loss: 0.4397 - val_acc: 0.8100\n",
            "Epoch 65/100\n",
            "100/100 [==============================] - 19s 187ms/step - loss: 0.4405 - acc: 0.7937 - val_loss: 0.5188 - val_acc: 0.7625\n",
            "Epoch 66/100\n",
            "100/100 [==============================] - 19s 189ms/step - loss: 0.4565 - acc: 0.8012 - val_loss: 0.4016 - val_acc: 0.8163\n",
            "Epoch 67/100\n",
            "100/100 [==============================] - 19s 189ms/step - loss: 0.4179 - acc: 0.8119 - val_loss: 0.4480 - val_acc: 0.8000\n",
            "Epoch 68/100\n",
            "100/100 [==============================] - 19s 186ms/step - loss: 0.4225 - acc: 0.8131 - val_loss: 0.4372 - val_acc: 0.8125\n",
            "Epoch 69/100\n",
            "100/100 [==============================] - 19s 189ms/step - loss: 0.4015 - acc: 0.8194 - val_loss: 0.5339 - val_acc: 0.7925\n",
            "Epoch 70/100\n",
            "100/100 [==============================] - 19s 191ms/step - loss: 0.4122 - acc: 0.8213 - val_loss: 0.4615 - val_acc: 0.8050\n",
            "Epoch 71/100\n",
            "100/100 [==============================] - 19s 188ms/step - loss: 0.4380 - acc: 0.8044 - val_loss: 0.4742 - val_acc: 0.7837\n",
            "Epoch 72/100\n",
            "100/100 [==============================] - 19s 187ms/step - loss: 0.4393 - acc: 0.7962 - val_loss: 0.4243 - val_acc: 0.8100\n",
            "Epoch 73/100\n",
            "100/100 [==============================] - 19s 189ms/step - loss: 0.4267 - acc: 0.8094 - val_loss: 0.4695 - val_acc: 0.8375\n",
            "Epoch 74/100\n",
            "100/100 [==============================] - 19s 186ms/step - loss: 0.4520 - acc: 0.8181 - val_loss: 0.4410 - val_acc: 0.7875\n",
            "Epoch 75/100\n",
            "100/100 [==============================] - 19s 188ms/step - loss: 0.4174 - acc: 0.8175 - val_loss: 0.4617 - val_acc: 0.7962\n",
            "Epoch 76/100\n",
            "100/100 [==============================] - 19s 187ms/step - loss: 0.4007 - acc: 0.8300 - val_loss: 0.5502 - val_acc: 0.7725\n",
            "Epoch 77/100\n",
            "100/100 [==============================] - 19s 187ms/step - loss: 0.4437 - acc: 0.8169 - val_loss: 0.5362 - val_acc: 0.7675\n",
            "Epoch 78/100\n",
            "100/100 [==============================] - 19s 187ms/step - loss: 0.4112 - acc: 0.8225 - val_loss: 0.4101 - val_acc: 0.8313\n",
            "Epoch 79/100\n",
            "100/100 [==============================] - 19s 187ms/step - loss: 0.4150 - acc: 0.8150 - val_loss: 0.9536 - val_acc: 0.6862\n",
            "Epoch 80/100\n",
            "100/100 [==============================] - 19s 187ms/step - loss: 0.4357 - acc: 0.8206 - val_loss: 0.4245 - val_acc: 0.8213\n",
            "Epoch 81/100\n",
            "100/100 [==============================] - 19s 188ms/step - loss: 0.4094 - acc: 0.8200 - val_loss: 0.4514 - val_acc: 0.8225\n",
            "Epoch 82/100\n",
            "100/100 [==============================] - 19s 188ms/step - loss: 0.4087 - acc: 0.8087 - val_loss: 0.5084 - val_acc: 0.7650\n",
            "Epoch 83/100\n",
            "100/100 [==============================] - 19s 187ms/step - loss: 0.4051 - acc: 0.8263 - val_loss: 0.4215 - val_acc: 0.7987\n",
            "Epoch 84/100\n",
            "100/100 [==============================] - 18s 184ms/step - loss: 0.3912 - acc: 0.8369 - val_loss: 0.3978 - val_acc: 0.8512\n",
            "Epoch 85/100\n",
            "100/100 [==============================] - 19s 187ms/step - loss: 0.4376 - acc: 0.8188 - val_loss: 0.4229 - val_acc: 0.8263\n",
            "Epoch 86/100\n",
            "100/100 [==============================] - 19s 186ms/step - loss: 0.3972 - acc: 0.8275 - val_loss: 0.4226 - val_acc: 0.8037\n",
            "Epoch 87/100\n",
            "100/100 [==============================] - 19s 188ms/step - loss: 0.3763 - acc: 0.8481 - val_loss: 0.4368 - val_acc: 0.8213\n",
            "Epoch 88/100\n",
            "100/100 [==============================] - 19s 188ms/step - loss: 0.3839 - acc: 0.8306 - val_loss: 0.6332 - val_acc: 0.7525\n",
            "Epoch 89/100\n",
            "100/100 [==============================] - 19s 189ms/step - loss: 0.4158 - acc: 0.8238 - val_loss: 0.5082 - val_acc: 0.7925\n",
            "Epoch 90/100\n",
            "100/100 [==============================] - 19s 189ms/step - loss: 0.4023 - acc: 0.8300 - val_loss: 0.5300 - val_acc: 0.8275\n",
            "Epoch 91/100\n",
            "100/100 [==============================] - 19s 189ms/step - loss: 0.3943 - acc: 0.8244 - val_loss: 0.4600 - val_acc: 0.8112\n",
            "Epoch 92/100\n",
            "100/100 [==============================] - 19s 188ms/step - loss: 0.3783 - acc: 0.8431 - val_loss: 0.4191 - val_acc: 0.8200\n",
            "Epoch 93/100\n",
            "100/100 [==============================] - 19s 187ms/step - loss: 0.4045 - acc: 0.8275 - val_loss: 0.7072 - val_acc: 0.7063\n",
            "Epoch 94/100\n",
            "100/100 [==============================] - 19s 188ms/step - loss: 0.4249 - acc: 0.8156 - val_loss: 0.4885 - val_acc: 0.7962\n",
            "Epoch 95/100\n",
            "100/100 [==============================] - 19s 189ms/step - loss: 0.3936 - acc: 0.8269 - val_loss: 0.3882 - val_acc: 0.8375\n",
            "Epoch 96/100\n",
            "100/100 [==============================] - 19s 189ms/step - loss: 0.3988 - acc: 0.8338 - val_loss: 0.4558 - val_acc: 0.8000\n",
            "Epoch 97/100\n",
            "100/100 [==============================] - 19s 186ms/step - loss: 0.3936 - acc: 0.8306 - val_loss: 0.4618 - val_acc: 0.8000\n",
            "Epoch 98/100\n",
            "100/100 [==============================] - 19s 186ms/step - loss: 0.3927 - acc: 0.8388 - val_loss: 0.4696 - val_acc: 0.7750\n",
            "Epoch 99/100\n",
            "100/100 [==============================] - 19s 188ms/step - loss: 0.4011 - acc: 0.8188 - val_loss: 0.5994 - val_acc: 0.7437\n",
            "Epoch 100/100\n",
            "100/100 [==============================] - 19s 187ms/step - loss: 0.3654 - acc: 0.8519 - val_loss: 0.4481 - val_acc: 0.8025\n"
          ]
        }
      ],
      "source": [
        "history = model.fit(\n",
        "      train_generator,\n",
        "      steps_per_epoch=100,\n",
        "      epochs=100,\n",
        "      validation_data=validation_generator,\n",
        "      validation_steps=50)"
      ]
    },
    {
      "cell_type": "code",
      "execution_count": 27,
      "metadata": {
        "id": "QmUuGzMEoTQt"
      },
      "outputs": [],
      "source": [
        "model.save(\"project_cnn.h5\")"
      ]
    },
    {
      "cell_type": "code",
      "execution_count": 28,
      "metadata": {
        "id": "UM3E4MI5oTQt",
        "colab": {
          "base_uri": "https://localhost:8080/",
          "height": 451
        },
        "outputId": "09351b98-9a63-4de0-ad54-576f0a2d5075"
      },
      "outputs": [
        {
          "output_type": "display_data",
          "data": {
            "text/plain": [
              "<Figure size 800x500 with 1 Axes>"
            ],
            "image/png": "[encoded data removed]"
          },
          "metadata": {}
        }
      ],
      "source": [
        "pd.DataFrame(history.history).plot(figsize=(8, 5))\n",
        "plt.grid(True)\n",
        "plt.gca().set_ylim(0, 1)\n",
        "plt.show()"
      ]
    },
    {
      "cell_type": "code",
      "execution_count": 29,
      "metadata": {
        "id": "uqsXNaYioTQt"
      },
      "outputs": [],
      "source": [
        "keras.backend.clear_session\n",
        "del model"
      ]
    },
    {
      "cell_type": "markdown",
      "metadata": {
        "id": "TS6Bhgw0oTQu"
      },
      "source": []
    },
    {
      "cell_type": "markdown",
      "metadata": {
        "id": "1kh633BFoTQu"
      },
      "source": [
        "# VGG16"
      ]
    },
    {
      "cell_type": "code",
      "execution_count": 30,
      "metadata": {
        "id": "aLIKbVOgoTQu",
        "colab": {
          "base_uri": "https://localhost:8080/"
        },
        "outputId": "ae450949-63fa-4688-a18c-93804cd77eb7"
      },
      "outputs": [
        {
          "output_type": "stream",
          "name": "stdout",
          "text": [
            "Found 2000 images belonging to 2 classes.\n",
            "Found 1000 images belonging to 2 classes.\n"
          ]
        }
      ],
      "source": [
        "from tensorflow.keras.preprocessing.image import ImageDataGenerator\n",
        "\n",
        "train_datagen = ImageDataGenerator(\n",
        "      rescale=1./255,\n",
        "      rotation_range=40,\n",
        "      width_shift_range=0.2,\n",
        "      height_shift_range=0.2,\n",
        "      shear_range=0.2,\n",
        "      zoom_range=0.2,\n",
        "      horizontal_flip=True)\n",
        "\n",
        "test_datagen = ImageDataGenerator(rescale=1./255)\n",
        "\n",
        "train_generator = train_datagen.flow_from_directory(\n",
        "        train_dir,\n",
        "        target_size=(150, 150),\n",
        "        batch_size=20,\n",
        "        class_mode='binary')\n",
        "\n",
        "validation_generator = test_datagen.flow_from_directory(\n",
        "        validation_dir,\n",
        "        target_size=(150, 150),\n",
        "        batch_size=20,\n",
        "        class_mode='binary')"
      ]
    },
    {
      "cell_type": "code",
      "execution_count": 31,
      "metadata": {
        "id": "G4Y9-uKioTQu",
        "colab": {
          "base_uri": "https://localhost:8080/"
        },
        "outputId": "d211a6be-f983-4d05-9648-f6a5ef89e4a9"
      },
      "outputs": [
        {
          "output_type": "stream",
          "name": "stdout",
          "text": [
            "Downloading data from https://storage.googleapis.com/tensorflow/keras-applications/vgg16/vgg16_weights_tf_dim_ordering_tf_kernels_notop.h5\n",
            "58889256/58889256 [==============================] - 0s 0us/step\n"
          ]
        }
      ],
      "source": [
        "from tensorflow.keras.applications import VGG16\n",
        "\n",
        "conv_base = VGG16(weights='imagenet',\n",
        "                  include_top=False,\n",
        "                  input_shape=(150, 150, 3))"
      ]
    },
    {
      "cell_type": "code",
      "execution_count": 32,
      "metadata": {
        "id": "i-Qf_OszoTQu",
        "colab": {
          "base_uri": "https://localhost:8080/"
        },
        "outputId": "9f1eac4a-42b7-4663-8e63-1312b540afe4"
      },
      "outputs": [
        {
          "output_type": "stream",
          "name": "stdout",
          "text": [
            "Model: \"vgg16\"\n",
            "_________________________________________________________________\n",
            " Layer (type)                Output Shape              Param #   \n",
            "=================================================================\n",
            " input_1 (InputLayer)        [(None, 150, 150, 3)]     0         \n",
            "                                                                 \n",
            " block1_conv1 (Conv2D)       (None, 150, 150, 64)      1792      \n",
            "                                                                 \n",
            " block1_conv2 (Conv2D)       (None, 150, 150, 64)      36928     \n",
            "                                                                 \n",
            " block1_pool (MaxPooling2D)  (None, 75, 75, 64)        0         \n",
            "                                                                 \n",
            " block2_conv1 (Conv2D)       (None, 75, 75, 128)       73856     \n",
            "                                                                 \n",
            " block2_conv2 (Conv2D)       (None, 75, 75, 128)       147584    \n",
            "                                                                 \n",
            " block2_pool (MaxPooling2D)  (None, 37, 37, 128)       0         \n",
            "                                                                 \n",
            " block3_conv1 (Conv2D)       (None, 37, 37, 256)       295168    \n",
            "                                                                 \n",
            " block3_conv2 (Conv2D)       (None, 37, 37, 256)       590080    \n",
            "                                                                 \n",
            " block3_conv3 (Conv2D)       (None, 37, 37, 256)       590080    \n",
            "                                                                 \n",
            " block3_pool (MaxPooling2D)  (None, 18, 18, 256)       0         \n",
            "                                                                 \n",
            " block4_conv1 (Conv2D)       (None, 18, 18, 512)       1180160   \n",
            "                                                                 \n",
            " block4_conv2 (Conv2D)       (None, 18, 18, 512)       2359808   \n",
            "                                                                 \n",
            " block4_conv3 (Conv2D)       (None, 18, 18, 512)       2359808   \n",
            "                                                                 \n",
            " block4_pool (MaxPooling2D)  (None, 9, 9, 512)         0         \n",
            "                                                                 \n",
            " block5_conv1 (Conv2D)       (None, 9, 9, 512)         2359808   \n",
            "                                                                 \n",
            " block5_conv2 (Conv2D)       (None, 9, 9, 512)         2359808   \n",
            "                                                                 \n",
            " block5_conv3 (Conv2D)       (None, 9, 9, 512)         2359808   \n",
            "                                                                 \n",
            " block5_pool (MaxPooling2D)  (None, 4, 4, 512)         0         \n",
            "                                                                 \n",
            "=================================================================\n",
            "Total params: 14714688 (56.13 MB)\n",
            "Trainable params: 14714688 (56.13 MB)\n",
            "Non-trainable params: 0 (0.00 Byte)\n",
            "_________________________________________________________________\n"
          ]
        }
      ],
      "source": [
        "conv_base.summary()"
      ]
    },
    {
      "cell_type": "code",
      "execution_count": 33,
      "metadata": {
        "id": "1tKv3T6coTQv"
      },
      "outputs": [],
      "source": [
        "from tensorflow.keras import models\n",
        "from tensorflow.keras import layers\n",
        "\n",
        "model = models.Sequential()\n",
        "model.add(conv_base)\n",
        "model.add(layers.Flatten())\n",
        "model.add(layers.Dense(256, activation='relu'))\n",
        "model.add(layers.Dense(1, activation='sigmoid'))"
      ]
    },
    {
      "cell_type": "code",
      "execution_count": 34,
      "metadata": {
        "id": "32g21QouoTQv",
        "colab": {
          "base_uri": "https://localhost:8080/"
        },
        "outputId": "48bbc9d3-9223-469b-9a7f-7c64aa731121"
      },
      "outputs": [
        {
          "output_type": "stream",
          "name": "stdout",
          "text": [
            "Model: \"sequential_3\"\n",
            "_________________________________________________________________\n",
            " Layer (type)                Output Shape              Param #   \n",
            "=================================================================\n",
            " vgg16 (Functional)          (None, 4, 4, 512)         14714688  \n",
            "                                                                 \n",
            " flatten_3 (Flatten)         (None, 8192)              0         \n",
            "                                                                 \n",
            " dense_6 (Dense)             (None, 256)               2097408   \n",
            "                                                                 \n",
            " dense_7 (Dense)             (None, 1)                 257       \n",
            "                                                                 \n",
            "=================================================================\n",
            "Total params: 16812353 (64.13 MB)\n",
            "Trainable params: 16812353 (64.13 MB)\n",
            "Non-trainable params: 0 (0.00 Byte)\n",
            "_________________________________________________________________\n"
          ]
        }
      ],
      "source": [
        "model.summary()"
      ]
    },
    {
      "cell_type": "code",
      "execution_count": 35,
      "metadata": {
        "id": "w-6PsTngoTQv"
      },
      "outputs": [],
      "source": [
        "# conv_base.trainable = False"
      ]
    },
    {
      "cell_type": "code",
      "execution_count": 36,
      "metadata": {
        "id": "Qpz5-hPEoTQv",
        "colab": {
          "base_uri": "https://localhost:8080/"
        },
        "outputId": "716586ab-c601-447d-8a08-8af2587ab507"
      },
      "outputs": [
        {
          "output_type": "stream",
          "name": "stderr",
          "text": [
            "WARNING:absl:`lr` is deprecated in Keras optimizer, please use `learning_rate` or use the legacy optimizer, e.g.,tf.keras.optimizers.legacy.RMSprop.\n"
          ]
        }
      ],
      "source": [
        "from tensorflow.keras import optimizers\n",
        "\n",
        "model.compile(loss='binary_crossentropy',\n",
        "              optimizer=optimizers.RMSprop(lr=2e-5),\n",
        "              metrics=['acc'])"
      ]
    },
    {
      "cell_type": "code",
      "execution_count": 37,
      "metadata": {
        "id": "5aNv7NDfoTQw"
      },
      "outputs": [],
      "source": [
        "checkpoint_cb = keras.callbacks.ModelCheckpoint(\"CNN_Project_Model-{epoch:02d}.h5\")"
      ]
    },
    {
      "cell_type": "code",
      "execution_count": 38,
      "metadata": {
        "id": "dXbmjMQLoTQw",
        "colab": {
          "base_uri": "https://localhost:8080/"
        },
        "outputId": "58658830-9bbc-4525-b23e-c9fa4093074c"
      },
      "outputs": [
        {
          "metadata": {
            "tags": null
          },
          "name": "stdout",
          "output_type": "stream",
          "text": [
            "Epoch 1/30\n",
            "100/100 [==============================] - 180s 2s/step - loss: 248.8580 - acc: 0.4910 - val_loss: 0.6932 - val_acc: 0.5000\n"
          ]
        },
        {
          "metadata": {
            "tags": null
          },
          "name": "stderr",
          "output_type": "stream",
          "text": [
            "/usr/local/lib/python3.10/dist-packages/keras/src/engine/training.py:3103: UserWarning: You are saving your model as an HDF5 file via `model.save()`. This file format is considered legacy. We recommend using instead the native Keras format, e.g. `model.save('my_model.keras')`.\n",
            "  saving_api.save_model(\n"
          ]
        },
        {
          "output_type": "stream",
          "name": "stdout",
          "text": [
            "Epoch 2/30\n",
            "100/100 [==============================] - 172s 2s/step - loss: 0.6933 - acc: 0.5035 - val_loss: 0.6932 - val_acc: 0.5000\n",
            "Epoch 3/30\n",
            "100/100 [==============================] - 172s 2s/step - loss: 0.6934 - acc: 0.4910 - val_loss: 0.6932 - val_acc: 0.5000\n",
            "Epoch 4/30\n",
            "100/100 [==============================] - 171s 2s/step - loss: 0.6935 - acc: 0.5000 - val_loss: 0.6931 - val_acc: 0.5000\n",
            "Epoch 5/30\n",
            "100/100 [==============================] - 171s 2s/step - loss: 0.6934 - acc: 0.4890 - val_loss: 0.6932 - val_acc: 0.5000\n",
            "Epoch 6/30\n",
            "100/100 [==============================] - 170s 2s/step - loss: 0.6932 - acc: 0.5000 - val_loss: 0.6932 - val_acc: 0.5000\n",
            "Epoch 7/30\n",
            "100/100 [==============================] - 170s 2s/step - loss: 0.6932 - acc: 0.5000 - val_loss: 0.6932 - val_acc: 0.5000\n",
            "Epoch 8/30\n",
            "100/100 [==============================] - 170s 2s/step - loss: 0.6932 - acc: 0.5000 - val_loss: 0.6932 - val_acc: 0.5000\n",
            "Epoch 9/30\n",
            "100/100 [==============================] - 169s 2s/step - loss: 0.6932 - acc: 0.5000 - val_loss: 0.6931 - val_acc: 0.5000\n",
            "Epoch 10/30\n",
            "100/100 [==============================] - 169s 2s/step - loss: 0.6932 - acc: 0.4910 - val_loss: 0.6931 - val_acc: 0.5000\n",
            "Epoch 11/30\n",
            "100/100 [==============================] - 170s 2s/step - loss: 0.6932 - acc: 0.4910 - val_loss: 0.6931 - val_acc: 0.5000\n",
            "Epoch 12/30\n",
            "100/100 [==============================] - 169s 2s/step - loss: 0.6932 - acc: 0.4980 - val_loss: 0.6931 - val_acc: 0.5000\n",
            "Epoch 13/30\n",
            "100/100 [==============================] - 169s 2s/step - loss: 0.6932 - acc: 0.4900 - val_loss: 0.6931 - val_acc: 0.5000\n",
            "Epoch 14/30\n",
            "100/100 [==============================] - 169s 2s/step - loss: 0.6932 - acc: 0.4970 - val_loss: 0.6931 - val_acc: 0.5000\n",
            "Epoch 15/30\n",
            "100/100 [==============================] - 170s 2s/step - loss: 0.6932 - acc: 0.4980 - val_loss: 0.6931 - val_acc: 0.5000\n",
            "Epoch 16/30\n",
            "100/100 [==============================] - 170s 2s/step - loss: 0.6932 - acc: 0.4880 - val_loss: 0.6931 - val_acc: 0.5000\n",
            "Epoch 17/30\n",
            "100/100 [==============================] - 169s 2s/step - loss: 0.6932 - acc: 0.4830 - val_loss: 0.6931 - val_acc: 0.5000\n",
            "Epoch 18/30\n",
            "100/100 [==============================] - 170s 2s/step - loss: 0.6932 - acc: 0.4760 - val_loss: 0.6931 - val_acc: 0.5000\n",
            "Epoch 19/30\n",
            "100/100 [==============================] - 169s 2s/step - loss: 0.6932 - acc: 0.4910 - val_loss: 0.6931 - val_acc: 0.5000\n",
            "Epoch 20/30\n",
            "100/100 [==============================] - 169s 2s/step - loss: 0.6932 - acc: 0.4870 - val_loss: 0.6931 - val_acc: 0.5000\n",
            "Epoch 21/30\n",
            "100/100 [==============================] - 170s 2s/step - loss: 0.6932 - acc: 0.4940 - val_loss: 0.6931 - val_acc: 0.5000\n",
            "Epoch 22/30\n",
            "100/100 [==============================] - 168s 2s/step - loss: 0.6932 - acc: 0.4750 - val_loss: 0.6931 - val_acc: 0.5000\n",
            "Epoch 23/30\n",
            "100/100 [==============================] - 169s 2s/step - loss: 0.6932 - acc: 0.4960 - val_loss: 0.6931 - val_acc: 0.5000\n",
            "Epoch 24/30\n",
            "100/100 [==============================] - 169s 2s/step - loss: 0.6932 - acc: 0.4950 - val_loss: 0.6931 - val_acc: 0.5000\n",
            "Epoch 25/30\n",
            "100/100 [==============================] - 170s 2s/step - loss: 0.6932 - acc: 0.4890 - val_loss: 0.6931 - val_acc: 0.5000\n",
            "Epoch 26/30\n",
            "100/100 [==============================] - 168s 2s/step - loss: 0.6932 - acc: 0.4920 - val_loss: 0.6931 - val_acc: 0.5000\n",
            "Epoch 27/30\n",
            "100/100 [==============================] - 168s 2s/step - loss: 0.6932 - acc: 0.5020 - val_loss: 0.6931 - val_acc: 0.5000\n",
            "Epoch 28/30\n",
            "100/100 [==============================] - 169s 2s/step - loss: 0.6932 - acc: 0.4950 - val_loss: 0.6931 - val_acc: 0.5000\n",
            "Epoch 29/30\n",
            "100/100 [==============================] - 170s 2s/step - loss: 0.6932 - acc: 0.4960 - val_loss: 0.6931 - val_acc: 0.5000\n",
            "Epoch 30/30\n",
            "100/100 [==============================] - 169s 2s/step - loss: 0.6932 - acc: 0.4910 - val_loss: 0.6931 - val_acc: 0.5000\n"
          ]
        }
      ],
      "source": [
        "history = model.fit(\n",
        "      train_generator,\n",
        "      steps_per_epoch=100,\n",
        "      epochs=30,\n",
        "      validation_data=validation_generator,\n",
        "      validation_steps=50,\n",
        "      callbacks=[checkpoint_cb])"
      ]
    },
    {
      "cell_type": "code",
      "execution_count": 39,
      "metadata": {
        "id": "9WtV-GHloTQw",
        "colab": {
          "base_uri": "https://localhost:8080/",
          "height": 451
        },
        "outputId": "1fedf42b-4487-437b-ff43-84e81a56c67e"
      },
      "outputs": [
        {
          "output_type": "display_data",
          "data": {
            "text/plain": [
              "<Figure size 800x500 with 1 Axes>"
            ],
            "image/png": "[encoded data removed]"
          },
          "metadata": {}
        }
      ],
      "source": [
        "pd.DataFrame(history.history).plot(figsize=(8, 5))\n",
        "plt.grid(True)\n",
        "plt.gca().set_ylim(0, 1)\n",
        "plt.show()"
      ]
    },
    {
      "cell_type": "code",
      "execution_count": 40,
      "metadata": {
        "id": "O9-FxKLyoTQx"
      },
      "outputs": [],
      "source": [
        "hist_df = pd.DataFrame(history.history)"
      ]
    },
    {
      "cell_type": "code",
      "execution_count": 41,
      "metadata": {
        "id": "iM3KU32voTQx"
      },
      "outputs": [],
      "source": [
        "hist_csv_file = 'history.csv'\n",
        "with open(hist_csv_file, mode='w') as f:\n",
        "    hist_df.to_csv(f)"
      ]
    },
    {
      "cell_type": "code",
      "execution_count": 42,
      "metadata": {
        "id": "UTh5hZr2oTQx",
        "colab": {
          "base_uri": "https://localhost:8080/"
        },
        "outputId": "711ae001-5ab4-45fb-c9e5-0d1cdd4c18f2"
      },
      "outputs": [
        {
          "output_type": "stream",
          "name": "stdout",
          "text": [
            "Found 1000 images belonging to 2 classes.\n"
          ]
        }
      ],
      "source": [
        "test_generator = test_datagen.flow_from_directory(\n",
        "        test_dir,\n",
        "        target_size=(150, 150),\n",
        "        batch_size=20,\n",
        "        class_mode='binary')"
      ]
    },
    {
      "cell_type": "code",
      "execution_count": 43,
      "metadata": {
        "id": "cJKd9AvxoTRA",
        "colab": {
          "base_uri": "https://localhost:8080/"
        },
        "outputId": "8fce1200-31fe-444b-bd1b-abd6197199b5"
      },
      "outputs": [
        {
          "output_type": "stream",
          "name": "stdout",
          "text": [
            "50/50 [==============================] - 99s 2s/step - loss: 0.6931 - acc: 0.5000\n"
          ]
        },
        {
          "output_type": "execute_result",
          "data": {
            "text/plain": [
              "[0.6931474804878235, 0.5]"
            ]
          },
          "metadata": {},
          "execution_count": 43
        }
      ],
      "source": [
        "model.evaluate(test_generator, steps=50)"
      ]
    },
    {
      "cell_type": "markdown",
      "metadata": {
        "id": "QbBGag1soTRB"
      },
      "source": [
        "## Results"
      ]
    }
  ],
  "metadata": {
    "accelerator": "TPU",
    "colab": {
      "gpuType": "V28",
      "provenance": []
    },
    "kernelspec": {
      "display_name": "Python 3",
      "name": "python3"
    },
    "language_info": {
      "codemirror_mode": {
        "name": "ipython",
        "version": 3
      },
      "file_extension": ".py",
      "mimetype": "text/x-python",
      "name": "python",
      "nbconvert_exporter": "python",
      "pygments_lexer": "ipython3",
      "version": "3.9.12"
    }
  },
  "nbformat": 4,
  "nbformat_minor": 0
}